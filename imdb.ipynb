{
  "nbformat": 4,
  "nbformat_minor": 0,
  "metadata": {
    "colab": {
      "name": "imdb.ipynb",
      "version": "0.3.2",
      "provenance": [],
      "collapsed_sections": [],
      "include_colab_link": true
    },
    "kernelspec": {
      "name": "python3",
      "display_name": "Python 3"
    }
  },
  "cells": [
    {
      "cell_type": "markdown",
      "metadata": {
        "id": "view-in-github",
        "colab_type": "text"
      },
      "source": [
        "[View in Colaboratory](https://colab.research.google.com/github/rajeshbabua/Tensorflow/blob/master/imdb.ipynb)"
      ]
    },
    {
      "metadata": {
        "id": "uB4HutSwTwMk",
        "colab_type": "code",
        "colab": {
          "base_uri": "https://localhost:8080/",
          "height": 34
        },
        "outputId": "9c67d849-92e0-4e07-9302-9aff6f30c914"
      },
      "cell_type": "code",
      "source": [
        "import tensorflow as tf\n",
        "from tensorflow import keras\n",
        "import numpy as np\n",
        "import pandas as pd\n",
        "from keras import datasets"
      ],
      "execution_count": 1,
      "outputs": [
        {
          "output_type": "stream",
          "text": [
            "Using TensorFlow backend.\n"
          ],
          "name": "stderr"
        }
      ]
    },
    {
      "metadata": {
        "id": "a7-uTDXzUEXL",
        "colab_type": "code",
        "colab": {
          "base_uri": "https://localhost:8080/",
          "height": 72
        },
        "outputId": "12072e8a-a4ff-425c-ddc9-ffe54e5777e0"
      },
      "cell_type": "code",
      "source": [
        "imdb = keras.datasets.imdb\n",
        "(tr_d,tr_l), (te_d,te_l) = imdb.load_data(num_words=10000)"
      ],
      "execution_count": 2,
      "outputs": [
        {
          "output_type": "stream",
          "text": [
            "Downloading data from https://storage.googleapis.com/tensorflow/tf-keras-datasets/imdb.npz\n",
            "17465344/17464789 [==============================] - 0s 0us/step\n"
          ],
          "name": "stdout"
        }
      ]
    },
    {
      "metadata": {
        "id": "bTvyGoCoUacL",
        "colab_type": "code",
        "colab": {
          "base_uri": "https://localhost:8080/",
          "height": 34
        },
        "outputId": "84817122-099f-4cbc-97ef-2c4aa238900e"
      },
      "cell_type": "code",
      "source": [
        "len(tr_d), len(tr_l), len(te_d)"
      ],
      "execution_count": 3,
      "outputs": [
        {
          "output_type": "execute_result",
          "data": {
            "text/plain": [
              "(25000, 25000, 25000)"
            ]
          },
          "metadata": {
            "tags": []
          },
          "execution_count": 3
        }
      ]
    },
    {
      "metadata": {
        "id": "9SRYMrqDAYhL",
        "colab_type": "text"
      },
      "cell_type": "markdown",
      "source": [
        ""
      ]
    },
    {
      "metadata": {
        "id": "OlVAwZNbUzBN",
        "colab_type": "code",
        "colab": {
          "base_uri": "https://localhost:8080/",
          "height": 34
        },
        "outputId": "ff566efb-1f73-4a2b-a69d-b6956dd2537c"
      },
      "cell_type": "code",
      "source": [
        "len(tr_d[0])"
      ],
      "execution_count": 4,
      "outputs": [
        {
          "output_type": "execute_result",
          "data": {
            "text/plain": [
              "218"
            ]
          },
          "metadata": {
            "tags": []
          },
          "execution_count": 4
        }
      ]
    },
    {
      "metadata": {
        "id": "QEyT-sgRVVy_",
        "colab_type": "code",
        "colab": {
          "base_uri": "https://localhost:8080/",
          "height": 34
        },
        "outputId": "31288539-658d-4f8b-acb5-d21ccac38d82"
      },
      "cell_type": "code",
      "source": [
        "w_i[\"<PAD>\"]"
      ],
      "execution_count": 13,
      "outputs": [
        {
          "output_type": "execute_result",
          "data": {
            "text/plain": [
              "0"
            ]
          },
          "metadata": {
            "tags": []
          },
          "execution_count": 13
        }
      ]
    },
    {
      "metadata": {
        "id": "Ju9QpXBpVDMb",
        "colab_type": "code",
        "colab": {}
      },
      "cell_type": "code",
      "source": [
        "##########reversing integers to get text\n",
        "\n",
        "w_i = imdb.get_word_index()\n",
        "\n",
        "w_i = {k:(v+3) for k,v in w_i.items()}\n",
        "w_i[\"<PAD>\"] =0\n",
        "w_i[\"<START>\"] =1\n",
        "w_i[\"<UNK>\"] =2\n",
        "w_i[\"<UNUSED>\"] =3\\\n",
        "\n",
        "r_w_i = dict([(value,key) for (key,value) in w_i.items()])\n",
        "\n",
        "def dec_re(text):\n",
        "  return \" \".join([r_w_i.get(i,'?') for i in text])\n",
        "\n"
      ],
      "execution_count": 0,
      "outputs": []
    },
    {
      "metadata": {
        "id": "u78ykYc5mjC-",
        "colab_type": "code",
        "colab": {
          "base_uri": "https://localhost:8080/",
          "height": 54
        },
        "outputId": "39775509-5c26-4d99-8dbd-30bc5e7c5eb6"
      },
      "cell_type": "code",
      "source": [
        "dec_re(tr_d[0])"
      ],
      "execution_count": 15,
      "outputs": [
        {
          "output_type": "execute_result",
          "data": {
            "text/plain": [
              "\"<START> this film was just brilliant casting location scenery story direction everyone's really suited the part they played and you could just imagine being there robert <UNK> is an amazing actor and now the same being director <UNK> father came from the same scottish island as myself so i loved the fact there was a real connection with this film the witty remarks throughout the film were great it was just brilliant so much that i bought the film as soon as it was released for <UNK> and would recommend it to everyone to watch and the fly fishing was amazing really cried at the end it was so sad and you know what they say if you cry at a film it must have been good and this definitely was also <UNK> to the two little boy's that played the <UNK> of norman and paul they were just brilliant children are often left out of the <UNK> list i think because the stars that play them all grown up are such a big profile for the whole film but these children are amazing and should be praised for what they have done don't you think the whole story was so lovely because it was true and was someone's life after all that was shared with us all\""
            ]
          },
          "metadata": {
            "tags": []
          },
          "execution_count": 15
        }
      ]
    },
    {
      "metadata": {
        "id": "I2QU4M7Nn-Ls",
        "colab_type": "code",
        "colab": {
          "base_uri": "https://localhost:8080/",
          "height": 34
        },
        "outputId": "63312084-4c4d-4b86-ebd7-fc71725cc9d2"
      },
      "cell_type": "code",
      "source": [
        "len(tr_d[0]), len(te_d[0])"
      ],
      "execution_count": 20,
      "outputs": [
        {
          "output_type": "execute_result",
          "data": {
            "text/plain": [
              "(218, 68)"
            ]
          },
          "metadata": {
            "tags": []
          },
          "execution_count": 20
        }
      ]
    },
    {
      "metadata": {
        "id": "ONN_VU6WnTa9",
        "colab_type": "code",
        "colab": {}
      },
      "cell_type": "code",
      "source": [
        "############next as the length of each review is different it has to be converted to same size before fed into neural network\n",
        "####so using pad sequences function\n",
        "\n",
        "tr_d = keras.preprocessing.sequence.pad_sequences(tr_d, value= w_i[\"<PAD>\"],padding= 'post', maxlen = 256)\n",
        "te_d = keras.preprocessing.sequence.pad_sequences(te_d, value= w_i[\"<PAD>\"],padding= 'post', maxlen = 256)\n"
      ],
      "execution_count": 0,
      "outputs": []
    },
    {
      "metadata": {
        "id": "JM1--nFyoQbW",
        "colab_type": "code",
        "colab": {
          "base_uri": "https://localhost:8080/",
          "height": 34
        },
        "outputId": "6082f34b-6e55-4629-c81a-86674d71ad26"
      },
      "cell_type": "code",
      "source": [
        "len(tr_d[0]), len(te_d[0])  #####after padding length"
      ],
      "execution_count": 22,
      "outputs": [
        {
          "output_type": "execute_result",
          "data": {
            "text/plain": [
              "(256, 256)"
            ]
          },
          "metadata": {
            "tags": []
          },
          "execution_count": 22
        }
      ]
    },
    {
      "metadata": {
        "id": "cmb0G3-voYDK",
        "colab_type": "code",
        "colab": {}
      },
      "cell_type": "code",
      "source": [
        "vocab_size = 10000\n",
        "model = keras.Sequential()\n",
        "model.add(keras.layers.Embedding(vocab_size,16))\n",
        "model.add(keras.layers.GlobalAveragePooling1D())\n",
        "model.add(keras.layers.Dense(16,activation = \"relu\"))\n",
        "model.add(keras.layers.Dense(1,activation = \"sigmoid\"))\n",
        "\n",
        "\n"
      ],
      "execution_count": 0,
      "outputs": []
    },
    {
      "metadata": {
        "id": "Lrueit2UpcUl",
        "colab_type": "code",
        "colab": {
          "base_uri": "https://localhost:8080/",
          "height": 278
        },
        "outputId": "7c519b3c-7629-493d-e22b-6a80d4868a65"
      },
      "cell_type": "code",
      "source": [
        "model.summary()"
      ],
      "execution_count": 27,
      "outputs": [
        {
          "output_type": "stream",
          "text": [
            "_________________________________________________________________\n",
            "Layer (type)                 Output Shape              Param #   \n",
            "=================================================================\n",
            "embedding_3 (Embedding)      (None, None, 16)          160000    \n",
            "_________________________________________________________________\n",
            "global_average_pooling1d (Gl (None, 16)                0         \n",
            "_________________________________________________________________\n",
            "dense (Dense)                (None, 16)                272       \n",
            "_________________________________________________________________\n",
            "dense_1 (Dense)              (None, 1)                 17        \n",
            "=================================================================\n",
            "Total params: 160,289\n",
            "Trainable params: 160,289\n",
            "Non-trainable params: 0\n",
            "_________________________________________________________________\n"
          ],
          "name": "stdout"
        }
      ]
    },
    {
      "metadata": {
        "id": "Wl2S6TwSqeRa",
        "colab_type": "code",
        "colab": {}
      },
      "cell_type": "code",
      "source": [
        "model.compile(optimizer=tf.train.AdamOptimizer(), loss = 'binary_crossentropy', metrics= ['accuracy'])"
      ],
      "execution_count": 0,
      "outputs": []
    },
    {
      "metadata": {
        "id": "c_LD9iwYqtW2",
        "colab_type": "code",
        "colab": {}
      },
      "cell_type": "code",
      "source": [
        "###create validation set\n",
        "x_val = tr_d[:10000]\n",
        "p_tr_d = tr_d[10000:]\n",
        "\n",
        "y_val = tr_l[:10000]\n",
        "p_tr_l = tr_l[10000:]"
      ],
      "execution_count": 0,
      "outputs": []
    },
    {
      "metadata": {
        "id": "gmGW1e9qrPMP",
        "colab_type": "code",
        "colab": {
          "base_uri": "https://localhost:8080/",
          "height": 1444
        },
        "outputId": "420b53cf-f54c-48b7-a19a-1a88d2d61a43"
      },
      "cell_type": "code",
      "source": [
        "###training\n",
        "\n",
        "training= model.fit(p_tr_d, p_tr_l, epochs=40, batch_size = 512, validation_data = (x_val,y_val), verbose = 1)"
      ],
      "execution_count": 36,
      "outputs": [
        {
          "output_type": "stream",
          "text": [
            "Train on 15000 samples, validate on 10000 samples\n",
            "Epoch 1/40\n",
            "15000/15000 [==============================] - 1s 52us/step - loss: 0.0927 - acc: 0.9755 - val_loss: 0.3115 - val_acc: 0.8833\n",
            "Epoch 2/40\n",
            "15000/15000 [==============================] - 1s 63us/step - loss: 0.0889 - acc: 0.9773 - val_loss: 0.3152 - val_acc: 0.8818\n",
            "Epoch 3/40\n",
            "15000/15000 [==============================] - 1s 60us/step - loss: 0.0855 - acc: 0.9788 - val_loss: 0.3182 - val_acc: 0.8823\n",
            "Epoch 4/40\n",
            "15000/15000 [==============================] - 1s 59us/step - loss: 0.0822 - acc: 0.9795 - val_loss: 0.3226 - val_acc: 0.8822\n",
            "Epoch 5/40\n",
            "15000/15000 [==============================] - 1s 59us/step - loss: 0.0793 - acc: 0.9803 - val_loss: 0.3260 - val_acc: 0.8818\n",
            "Epoch 6/40\n",
            "15000/15000 [==============================] - 1s 58us/step - loss: 0.0761 - acc: 0.9821 - val_loss: 0.3309 - val_acc: 0.8803\n",
            "Epoch 7/40\n",
            "15000/15000 [==============================] - 1s 60us/step - loss: 0.0738 - acc: 0.9827 - val_loss: 0.3340 - val_acc: 0.8805\n",
            "Epoch 8/40\n",
            "15000/15000 [==============================] - 1s 59us/step - loss: 0.0704 - acc: 0.9838 - val_loss: 0.3382 - val_acc: 0.8797\n",
            "Epoch 9/40\n",
            "15000/15000 [==============================] - 1s 59us/step - loss: 0.0678 - acc: 0.9843 - val_loss: 0.3429 - val_acc: 0.8791\n",
            "Epoch 10/40\n",
            "15000/15000 [==============================] - 1s 59us/step - loss: 0.0652 - acc: 0.9860 - val_loss: 0.3464 - val_acc: 0.8791\n",
            "Epoch 11/40\n",
            "15000/15000 [==============================] - 1s 59us/step - loss: 0.0627 - acc: 0.9867 - val_loss: 0.3513 - val_acc: 0.8792\n",
            "Epoch 12/40\n",
            "15000/15000 [==============================] - 1s 59us/step - loss: 0.0602 - acc: 0.9873 - val_loss: 0.3557 - val_acc: 0.8776\n",
            "Epoch 13/40\n",
            "15000/15000 [==============================] - 1s 58us/step - loss: 0.0579 - acc: 0.9884 - val_loss: 0.3599 - val_acc: 0.8786\n",
            "Epoch 14/40\n",
            "15000/15000 [==============================] - 1s 59us/step - loss: 0.0556 - acc: 0.9888 - val_loss: 0.3652 - val_acc: 0.8763\n",
            "Epoch 15/40\n",
            "15000/15000 [==============================] - 1s 59us/step - loss: 0.0534 - acc: 0.9898 - val_loss: 0.3700 - val_acc: 0.8756\n",
            "Epoch 16/40\n",
            "15000/15000 [==============================] - 1s 58us/step - loss: 0.0518 - acc: 0.9903 - val_loss: 0.3747 - val_acc: 0.8761\n",
            "Epoch 17/40\n",
            "15000/15000 [==============================] - 1s 59us/step - loss: 0.0495 - acc: 0.9908 - val_loss: 0.3817 - val_acc: 0.8768\n",
            "Epoch 18/40\n",
            "15000/15000 [==============================] - 1s 59us/step - loss: 0.0478 - acc: 0.9917 - val_loss: 0.3849 - val_acc: 0.8753\n",
            "Epoch 19/40\n",
            "15000/15000 [==============================] - 1s 59us/step - loss: 0.0456 - acc: 0.9918 - val_loss: 0.3906 - val_acc: 0.8745\n",
            "Epoch 20/40\n",
            "15000/15000 [==============================] - 1s 60us/step - loss: 0.0436 - acc: 0.9928 - val_loss: 0.3959 - val_acc: 0.8760\n",
            "Epoch 21/40\n",
            "15000/15000 [==============================] - 1s 59us/step - loss: 0.0423 - acc: 0.9930 - val_loss: 0.4009 - val_acc: 0.8744\n",
            "Epoch 22/40\n",
            "15000/15000 [==============================] - 1s 59us/step - loss: 0.0401 - acc: 0.9934 - val_loss: 0.4057 - val_acc: 0.8748\n",
            "Epoch 23/40\n",
            "15000/15000 [==============================] - 1s 59us/step - loss: 0.0385 - acc: 0.9939 - val_loss: 0.4115 - val_acc: 0.8739\n",
            "Epoch 24/40\n",
            "15000/15000 [==============================] - 1s 59us/step - loss: 0.0376 - acc: 0.9941 - val_loss: 0.4187 - val_acc: 0.8721\n",
            "Epoch 25/40\n",
            "15000/15000 [==============================] - 1s 59us/step - loss: 0.0358 - acc: 0.9950 - val_loss: 0.4217 - val_acc: 0.8730\n",
            "Epoch 26/40\n",
            "15000/15000 [==============================] - 1s 59us/step - loss: 0.0342 - acc: 0.9949 - val_loss: 0.4271 - val_acc: 0.8729\n",
            "Epoch 27/40\n",
            "15000/15000 [==============================] - 1s 58us/step - loss: 0.0331 - acc: 0.9953 - val_loss: 0.4343 - val_acc: 0.8723\n",
            "Epoch 28/40\n",
            "15000/15000 [==============================] - 1s 59us/step - loss: 0.0318 - acc: 0.9955 - val_loss: 0.4378 - val_acc: 0.8714\n",
            "Epoch 29/40\n",
            "15000/15000 [==============================] - 1s 59us/step - loss: 0.0304 - acc: 0.9961 - val_loss: 0.4434 - val_acc: 0.8714\n",
            "Epoch 30/40\n",
            "15000/15000 [==============================] - 1s 60us/step - loss: 0.0291 - acc: 0.9963 - val_loss: 0.4503 - val_acc: 0.8700\n",
            "Epoch 31/40\n",
            "15000/15000 [==============================] - 1s 59us/step - loss: 0.0278 - acc: 0.9964 - val_loss: 0.4547 - val_acc: 0.8703\n",
            "Epoch 32/40\n",
            "15000/15000 [==============================] - 1s 59us/step - loss: 0.0268 - acc: 0.9966 - val_loss: 0.4612 - val_acc: 0.8703\n",
            "Epoch 33/40\n",
            "15000/15000 [==============================] - 1s 59us/step - loss: 0.0258 - acc: 0.9970 - val_loss: 0.4657 - val_acc: 0.8697\n",
            "Epoch 34/40\n",
            "15000/15000 [==============================] - 1s 58us/step - loss: 0.0247 - acc: 0.9969 - val_loss: 0.4721 - val_acc: 0.8687\n",
            "Epoch 35/40\n",
            "15000/15000 [==============================] - 1s 59us/step - loss: 0.0237 - acc: 0.9971 - val_loss: 0.4772 - val_acc: 0.8683\n",
            "Epoch 36/40\n",
            "15000/15000 [==============================] - 1s 58us/step - loss: 0.0228 - acc: 0.9975 - val_loss: 0.4825 - val_acc: 0.8683\n",
            "Epoch 37/40\n",
            "15000/15000 [==============================] - 1s 59us/step - loss: 0.0218 - acc: 0.9977 - val_loss: 0.4874 - val_acc: 0.8681\n",
            "Epoch 38/40\n",
            "15000/15000 [==============================] - 1s 59us/step - loss: 0.0211 - acc: 0.9979 - val_loss: 0.4939 - val_acc: 0.8675\n",
            "Epoch 39/40\n",
            "15000/15000 [==============================] - 1s 59us/step - loss: 0.0201 - acc: 0.9980 - val_loss: 0.4988 - val_acc: 0.8674\n",
            "Epoch 40/40\n",
            "15000/15000 [==============================] - 1s 58us/step - loss: 0.0193 - acc: 0.9979 - val_loss: 0.5045 - val_acc: 0.8674\n"
          ],
          "name": "stdout"
        }
      ]
    },
    {
      "metadata": {
        "id": "mxEykBwFrnFe",
        "colab_type": "code",
        "colab": {
          "base_uri": "https://localhost:8080/",
          "height": 34
        },
        "outputId": "9619d24c-bfb2-46d8-eb76-950e98c9f6fc"
      },
      "cell_type": "code",
      "source": [
        "results = model.evaluate(te_d, te_l)"
      ],
      "execution_count": 37,
      "outputs": [
        {
          "output_type": "stream",
          "text": [
            "25000/25000 [==============================] - 1s 35us/step\n"
          ],
          "name": "stdout"
        }
      ]
    },
    {
      "metadata": {
        "id": "Jlr6C9C6rz3X",
        "colab_type": "code",
        "colab": {
          "base_uri": "https://localhost:8080/",
          "height": 34
        },
        "outputId": "fb797e1e-6f27-42c0-f332-c90c31a21b9c"
      },
      "cell_type": "code",
      "source": [
        "print(results)"
      ],
      "execution_count": 38,
      "outputs": [
        {
          "output_type": "stream",
          "text": [
            "[0.5397071629023552, 0.85488]\n"
          ],
          "name": "stdout"
        }
      ]
    },
    {
      "metadata": {
        "id": "xQm--x5ir6_X",
        "colab_type": "code",
        "colab": {
          "base_uri": "https://localhost:8080/",
          "height": 712
        },
        "outputId": "b42eee2c-6192-4c8b-8afb-d39e58d62203"
      },
      "cell_type": "code",
      "source": [
        "h_d = training.history\n",
        "h_d['acc']"
      ],
      "execution_count": 41,
      "outputs": [
        {
          "output_type": "execute_result",
          "data": {
            "text/plain": [
              "[0.9754666666348776,\n",
              " 0.9772666665712992,\n",
              " 0.9787999997138978,\n",
              " 0.979466666730245,\n",
              " 0.9803333332379659,\n",
              " 0.9820666666666666,\n",
              " 0.9826666665712992,\n",
              " 0.9838000001589458,\n",
              " 0.9843333333333333,\n",
              " 0.986,\n",
              " 0.9866666669209798,\n",
              " 0.9873333332379659,\n",
              " 0.9884000002543132,\n",
              " 0.9887999999046325,\n",
              " 0.9898000002543131,\n",
              " 0.9902666669209799,\n",
              " 0.9908,\n",
              " 0.9916666669209798,\n",
              " 0.9918000002543131,\n",
              " 0.9928000002543131,\n",
              " 0.9929999999046326,\n",
              " 0.9934000002543132,\n",
              " 0.9938666669209798,\n",
              " 0.9941333333333333,\n",
              " 0.9950000002543131,\n",
              " 0.9948666669209798,\n",
              " 0.9952666669209799,\n",
              " 0.9955333335876465,\n",
              " 0.9960666666666667,\n",
              " 0.9963333333333333,\n",
              " 0.9964,\n",
              " 0.9966000002543132,\n",
              " 0.9970000002543131,\n",
              " 0.9969333333333333,\n",
              " 0.9970666669209798,\n",
              " 0.9974666669209798,\n",
              " 0.9976666666666667,\n",
              " 0.9978666666666667,\n",
              " 0.9980000002543131,\n",
              " 0.9979333335876465]"
            ]
          },
          "metadata": {
            "tags": []
          },
          "execution_count": 41
        }
      ]
    }
  ]
}